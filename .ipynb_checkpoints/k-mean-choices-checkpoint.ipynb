{
 "cells": [
  {
   "cell_type": "markdown",
   "id": "5094d93c",
   "metadata": {},
   "source": [
    "# K-Means, means choosing\n",
    "---\n",
    "K-Means is a popular machine learning algorithm that helps cluster data into logical groups.\n",
    "However choosing the correct mean values to use as seed points is a challeng thesenotes attempts to offer an method based on histogram analysis. \n",
    "\n",
    "## Let us assume we have two datasets whose histograms are as follows:"
   ]
  },
  {
   "cell_type": "code",
   "execution_count": 10,
   "id": "06a1e8bf",
   "metadata": {},
   "outputs": [],
   "source": [
    "%matplotlib inline"
   ]
  },
  {
   "cell_type": "code",
   "execution_count": 93,
   "id": "483178e4",
   "metadata": {
    "scrolled": true
   },
   "outputs": [
    {
     "data": {
      "image/png": "[encoded data removed]",
      "text/plain": [
       "<Figure size 500x270 with 1 Axes>"
      ]
     },
     "metadata": {},
     "output_type": "display_data"
    }
   ],
   "source": [
    "import numpy as np\n",
    "import matplotlib.pyplot as plt\n",
    "\n",
    "N = 1000\n",
    "\n",
    "def roll_die(sides=6, base=1):\n",
    "    return np.random.randint(base, base + sides)\n",
    "\n",
    "def roll_two_dice(sides, base):\n",
    "    die1 = roll_die(sides, base)\n",
    "    die2 = roll_die(sides, base)\n",
    "    return die1+die2\n",
    "\n",
    "def genSet(sides, base):\n",
    "    dset = []\n",
    "    for i in range(N):\n",
    "        dset.append(roll_two_dice(sides, base))\n",
    "    return dset\n",
    "\n",
    "np.random.seed(1)\n",
    "set1 = genSet(6, 1)  # two six sided dice 2-12 \n",
    "set2 = genSet(6, 8)  # two six sided dice 16+22\n",
    "sets = np.concatenate((set1, set2))\n",
    "\n",
    "plt.style.use('_mpl-gallery')\n",
    "fig, ax = plt.subplots(figsize=(5, 2.7), layout='constrained')\n",
    "#count, bins, ignored = ax.hist(set1, 11, density=True)\n",
    "#count, bins, ignored = ax.hist(set2, 11, density=True)\n",
    "count, bins, ignored = ax.hist(sets, 24, density=True)\n",
    "#ax.plot(1/(sigma * np.sqrt(2 * np.pi)) * np.exp( - (bins - mu)**2 / (2 * sigma**2)))\n",
    "\n",
    "plt.show()"
   ]
  },
  {
   "cell_type": "markdown",
   "id": "65ad6a9e",
   "metadata": {},
   "source": [
    "We notice here that that there is an overlap between two datasets, between 12 and 15.  This is intentional.\n",
    "We will now take the cumulative histogram of this dataset and plot it."
   ]
  }
 ],
 "metadata": {
  "kernelspec": {
   "display_name": "Python 3 (ipykernel)",
   "language": "python",
   "name": "python3"
  },
  "language_info": {
   "codemirror_mode": {
    "name": "ipython",
    "version": 3
   },
   "file_extension": ".py",
   "mimetype": "text/x-python",
   "name": "python",
   "nbconvert_exporter": "python",
   "pygments_lexer": "ipython3",
   "version": "3.11.7"
  }
 },
 "nbformat": 4,
 "nbformat_minor": 5
}
